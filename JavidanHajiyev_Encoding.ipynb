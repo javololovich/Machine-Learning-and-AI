{
  "nbformat": 4,
  "nbformat_minor": 0,
  "metadata": {
    "colab": {
      "provenance": []
    },
    "kernelspec": {
      "name": "python3",
      "display_name": "Python 3"
    },
    "language_info": {
      "name": "python"
    }
  },
  "cells": [
    {
      "cell_type": "code",
      "execution_count": null,
      "metadata": {
        "id": "TCSMoAcd25lJ"
      },
      "outputs": [],
      "source": [
        "import math"
      ]
    },
    {
      "cell_type": "code",
      "source": [
        "def compute_entropy(string):\n",
        "\n",
        "    char_counts = {}\n",
        "    for char in string:\n",
        "        if char in char_counts:\n",
        "            char_counts[char] += 1\n",
        "        else:\n",
        "            char_counts[char] = 1\n",
        "    total_chars = len(string)\n",
        "\n",
        "    entropy = 0\n",
        "    for char, count in char_counts.items():\n",
        "        probability = count / total_chars\n",
        "        entropy -= probability * math.log2(probability)\n",
        "\n",
        "    return entropy"
      ],
      "metadata": {
        "id": "26GUnkJf4YlT"
      },
      "execution_count": null,
      "outputs": []
    },
    {
      "cell_type": "code",
      "source": [
        "# Example\n",
        "string1 = \"helloworld\"\n",
        "string2 = \"byeworld\"\n",
        "entropy1 = compute_entropy(string1)\n",
        "entropy2 = compute_entropy(string2)\n",
        "print(f\"Entropy: {entropy1} and {entropy2}\")"
      ],
      "metadata": {
        "colab": {
          "base_uri": "https://localhost:8080/"
        },
        "id": "2ZTQbtLd4Yuf",
        "outputId": "d4ee7af3-09c7-4fb9-cf9c-d6b503a70be2"
      },
      "execution_count": null,
      "outputs": [
        {
          "output_type": "stream",
          "name": "stdout",
          "text": [
            "Entropy: 2.6464393446710153 and 3.0\n"
          ]
        }
      ]
    },
    {
      "cell_type": "code",
      "source": [
        "class Node:\n",
        "    def __init__(self, char, freq):\n",
        "        self.char = char\n",
        "        self.freq = freq\n",
        "        self.left = None\n",
        "        self.right = None\n",
        "\n",
        "def compute_optimal_tree(string):\n",
        "\n",
        "    char_counts = {}\n",
        "    for char in string:\n",
        "        if char in char_counts:\n",
        "            char_counts[char] += 1\n",
        "        else:\n",
        "            char_counts[char] = 1\n",
        "\n",
        "    heap = [Node(char, freq) for char, freq in char_counts.items()]\n",
        "    heap.sort(key=lambda node: node.freq)\n",
        "\n",
        "    while len(heap) > 1:\n",
        "        node1 = heap.pop(0)\n",
        "        node2 = heap.pop(0)\n",
        "\n",
        "        merged = Node(None, node1.freq + node2.freq)\n",
        "        merged.left = node1\n",
        "        merged.right = node2\n",
        "\n",
        "        heap.append(merged)\n",
        "        heap.sort(key=lambda node: node.freq)\n",
        "\n",
        "    return heap[0]  # root of the Huffman tree\n",
        "\n",
        "def compute_huffman_code(node, binary_string='', huffman_code={}):\n",
        "    if node is None:\n",
        "        return\n",
        "\n",
        "    if node.char is not None:\n",
        "        huffman_code[node.char] = binary_string\n",
        "        return\n",
        "\n",
        "    compute_huffman_code(node.left, binary_string + '0', huffman_code)\n",
        "    compute_huffman_code(node.right, binary_string + '1', huffman_code)\n",
        "\n",
        "    return huffman_code\n",
        "\n",
        "def compress(sentence, huffman_code):\n",
        "    return ''.join(huffman_code[char] for char in sentence)\n",
        "\n",
        "def decompress(encoded_sentence, root):\n",
        "    decoded_sentence = ''\n",
        "    node = root\n",
        "    for bit in encoded_sentence:\n",
        "        if bit == '0':\n",
        "            node = node.left\n",
        "        else:\n",
        "            node = node.right\n",
        "\n",
        "        if node.char is not None:\n",
        "            decoded_sentence += node.char\n",
        "            node = root\n",
        "\n",
        "    return decoded_sentence\n",
        "\n",
        "# Example 1\n",
        "sentence1 = \"she sells seashells by the seashore\"\n",
        "root = compute_optimal_tree(sentence1)\n",
        "huffman_code = compute_huffman_code(root)\n",
        "encoded_sentence1 = compress(sentence1, huffman_code)\n",
        "decoded_sentence1 = decompress(encoded_sentence1, root)\n",
        "# Example 2\n",
        "sentence2 = \"peter piper picked a peck of pickled peppers\"\n",
        "root = compute_optimal_tree(sentence2)\n",
        "huffman_code = compute_huffman_code(root)\n",
        "encoded_sentence2 = compress(sentence2, huffman_code)\n",
        "decoded_sentence2 = decompress(encoded_sentence2, root)\n",
        "# Outputs\n",
        "print(f\"Original sentence: {sentence1}\")\n",
        "print(f\"Encoded sentence: {encoded_sentence1}\")\n",
        "print(f\"Decoded sentence: {decoded_sentence1}\")\n",
        "print(f\"Original sentence: {sentence2}\")\n",
        "print(f\"Encoded sentence: {encoded_sentence2}\")\n",
        "print(f\"Decoded sentence: {decoded_sentence2}\")\n"
      ],
      "metadata": {
        "colab": {
          "base_uri": "https://localhost:8080/"
        },
        "id": "_fpenUNZ7s-f",
        "outputId": "f594f0d7-95a1-4183-9b0a-d167f0f8574e"
      },
      "execution_count": null,
      "outputs": [
        {
          "output_type": "stream",
          "name": "stdout",
          "text": [
            "Original sentence: she sells seashells by the seashore\n",
            "Encoded sentence: 010011111100111110010001110011110001010011111001000111010100101011101011000111111001111000101001101110000111\n",
            "Decoded sentence: she sells seashells by the seashore\n",
            "Original sentence: peter piper picked a peck of pickled peppers\n",
            "Encoded sentence: 01111000101111000110011001011111000110011001101010111110000110000111100111110101011110001000010111001100110101011001101110000110011110101111100000111\n",
            "Decoded sentence: peter piper picked a peck of pickled peppers\n"
          ]
        }
      ]
    },
    {
      "cell_type": "markdown",
      "source": [
        "For the sentence “she sells seashells by the seashore”:\n",
        "\n",
        "Length of the encoded sentence: 117 bits\n",
        "Length of the original sentence: 36 characters\n",
        "Average number of bits per character: 117 / 36 = 3.25 bits/character\n",
        "\n",
        "For the sentence “peter piper picked a peck of pickled peppers”:\n",
        "\n",
        "Length of the encoded sentence: 123 bits\n",
        "Length of the original sentence: 41 characters\n",
        "Average number of bits per character: 123 / 41 = 3 bits/character"
      ],
      "metadata": {
        "id": "ICCeu-KI-fIq"
      }
    }
  ]
}
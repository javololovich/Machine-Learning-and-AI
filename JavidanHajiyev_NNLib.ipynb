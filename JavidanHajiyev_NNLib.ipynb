{
  "nbformat": 4,
  "nbformat_minor": 0,
  "metadata": {
    "colab": {
      "provenance": []
    },
    "kernelspec": {
      "name": "python3",
      "display_name": "Python 3"
    },
    "language_info": {
      "name": "python"
    }
  },
  "cells": [
    {
      "cell_type": "code",
      "execution_count": null,
      "metadata": {
        "colab": {
          "base_uri": "https://localhost:8080/",
          "height": 631
        },
        "id": "4OMDUsGAKzUk",
        "outputId": "b2995358-edb8-45c7-a512-f2e8da2ba07a"
      },
      "outputs": [
        {
          "output_type": "stream",
          "name": "stdout",
          "text": [
            "Epoch 0, cost: 155.5749350172073, test cost: 38.108053708885905, test accuracy: 0.36666666666666664\n",
            "Epoch 100, cost: 130.28424651348828, test cost: 32.706672024603094, test accuracy: 0.43333333333333335\n",
            "Epoch 200, cost: 116.72931471260091, test cost: 29.09082114870067, test accuracy: 0.6333333333333333\n",
            "Epoch 300, cost: 106.40991922201397, test cost: 26.35857180564659, test accuracy: 1.0\n",
            "Epoch 400, cost: 98.4261452870887, test cost: 24.260106079496403, test accuracy: 0.9666666666666667\n",
            "Epoch 500, cost: 92.11936394850369, test cost: 22.613156196591433, test accuracy: 0.9666666666666667\n",
            "Epoch 600, cost: 87.02823286007339, test cost: 21.290937058824, test accuracy: 0.9333333333333333\n",
            "Epoch 700, cost: 82.83302860816536, test cost: 20.206249849500082, test accuracy: 0.9333333333333333\n",
            "Epoch 800, cost: 79.31082334219981, test cost: 19.298756948734344, test accuracy: 0.9333333333333333\n",
            "Epoch 900, cost: 76.30399393028564, test cost: 18.5261069756194, test accuracy: 0.9333333333333333\n"
          ]
        },
        {
          "output_type": "display_data",
          "data": {
            "text/plain": [
              "<Figure size 640x480 with 1 Axes>"
            ],
            "image/png": "[encoded data removed]"
          },
          "metadata": {}
        }
      ],
      "source": [
        "import numpy as np\n",
        "from sklearn.datasets import load_iris\n",
        "from sklearn.utils import shuffle\n",
        "import matplotlib.pyplot as plt\n",
        "class NNLib:\n",
        "    def __init__(self, input_dim, hidden_layers, output_dim):\n",
        "        self.layers = [input_dim] + hidden_layers + [output_dim]\n",
        "        self.weights = []\n",
        "        self.biases = []\n",
        "        for i in range(len(self.layers) - 1):\n",
        "            self.weights.append(np.random.randn(self.layers[i], self.layers[i+1]))\n",
        "            self.biases.append(np.random.randn(self.layers[i+1]))\n",
        "\n",
        "    def sigmoid(self, z):\n",
        "        return 1 / (1 + np.exp(-z))\n",
        "\n",
        "    def softmax(self, z):\n",
        "        e_z = np.exp(z - np.max(z))\n",
        "        return e_z / e_z.sum(axis=1, keepdims=True)\n",
        "\n",
        "    def cost_function(self, y_true, y_pred):\n",
        "        return -np.sum(y_true * np.log(y_pred))\n",
        "\n",
        "    def forward_propagation(self, X):\n",
        "        self.a = [X]\n",
        "        self.z = []\n",
        "        for i in range(len(self.layers) - 2):\n",
        "            self.z.append(np.dot(self.a[-1], self.weights[i]) + self.biases[i])\n",
        "            self.a.append(self.sigmoid(self.z[-1]))\n",
        "        self.z.append(np.dot(self.a[-1], self.weights[-1]) + self.biases[-1])\n",
        "        self.a.append(self.softmax(self.z[-1]))\n",
        "        return self.a[-1]\n",
        "\n",
        "    def back_propagation(self, X, y):\n",
        "        m = X.shape[0]\n",
        "        self.dz = self.a[-1] - y\n",
        "        self.dw = 1/m * np.dot(self.a[-2].T, self.dz)\n",
        "        self.db = 1/m * np.sum(self.dz, axis=0, keepdims=True)\n",
        "        self.da = np.dot(self.dz, self.weights[-1].T)\n",
        "\n",
        "    def update_weights(self, learning_rate):\n",
        "        self.weights[-1] = self.weights[-1] - learning_rate * self.dw\n",
        "        self.biases[-1] = self.biases[-1] - learning_rate * self.db\n",
        "\n",
        "    def shuffleTrainingData(self, X, y):\n",
        "        return shuffle(X, y)\n",
        "\n",
        "    def trainingEpoch(self, X, y, learning_rate):\n",
        "        X, y = self.shuffleTrainingData(X, y)\n",
        "        y_pred = self.forward_propagation(X)\n",
        "        cost = self.cost_function(y, y_pred)\n",
        "        self.back_propagation(X, y)\n",
        "        self.update_weights(learning_rate)\n",
        "        return cost\n",
        "\n",
        "    def testPrediction(self, X_test, y_test):\n",
        "        y_pred = self.forward_propagation(X_test)\n",
        "        cost = self.cost_function(y_test, y_pred)\n",
        "        accuracy = self.checkAccuracy(y_test, y_pred)\n",
        "        return cost, accuracy\n",
        "\n",
        "    def checkAccuracy(self, y_true, y_pred):\n",
        "        return np.mean(np.argmax(y_true, axis=1) == np.argmax(y_pred, axis=1))\n",
        "\n",
        "    def train(self, X, y, X_test, y_test, learning_rate, epochs):\n",
        "        costs = []\n",
        "        for epoch in range(epochs):\n",
        "            cost = self.trainingEpoch(X, y, learning_rate)\n",
        "            costs.append(cost)\n",
        "            if epoch % 100 == 0:\n",
        "                test_cost, test_accuracy = self.testPrediction(X_test, y_test)\n",
        "                print(f'Epoch {epoch}, cost: {cost}, test cost: {test_cost}, test accuracy: {test_accuracy}')\n",
        "        return costs\n",
        "\n",
        "    def createOneHot(self, instance_index, vector_length):\n",
        "        one_hot = np.zeros(vector_length)\n",
        "        one_hot[instance_index] = 1\n",
        "        return one_hot\n",
        "\n",
        "    def loadAttributesAndLabels(self, dataset):\n",
        "        attributes = dataset.data\n",
        "        labels = np.array([self.createOneHot(label, len(set(dataset.target))) for label in dataset.target])\n",
        "        return attributes, labels\n",
        "\n",
        "# Load iris dataset\n",
        "iris = load_iris()\n",
        "\n",
        "# Create an instance of the NNLib class\n",
        "nn = NNLib(input_dim=4, hidden_layers=[5], output_dim=3)\n",
        "\n",
        "# Load attributes and labels using the new method\n",
        "data, target = nn.loadAttributesAndLabels(iris)\n",
        "\n",
        "# Normalize the data\n",
        "data = data / np.max(data, axis=0)\n",
        "\n",
        "# Split the data into training and test sets\n",
        "from sklearn.model_selection import train_test_split\n",
        "X_train, X_test, y_train, y_test = train_test_split(data, target, test_size=0.2, random_state=42)\n",
        "\n",
        "\n",
        "\n",
        "# Train the network\n",
        "costs=nn.train(X_train, y_train, X_test, y_test, learning_rate=0.1, epochs=1000)\n",
        "\n",
        "\n",
        "#Plot\n",
        "plt.plot(costs)\n",
        "plt.xlabel('Epoch')\n",
        "plt.ylabel('Cost')\n",
        "plt.show()"
      ]
    },
    {
      "cell_type": "markdown",
      "source": [
        "1.The initial weights of the neural network are set randomly using the np.random.randn() function from numpy, which generates numbers from a standard normal distribution.\n",
        "\n",
        "2.The activation function used in the NNLib class is the sigmoid function.\n",
        "\n",
        "3.For binary classification problems, the sigmoid function can be used in the output layer. However, for multi-class classification problems like the iris dataset, the softmax function is typically more appropriate.\n",
        "\n",
        "4.The cost function implemented in the NNLib class is the mean squared error (MSE).\n",
        "\n",
        "5.The dataset is divided into training and testing sets, with 80% of the data used for training and 20% used for testing. This is determined by the test_size=0.2 parameter in the train_test_split function.\n",
        "\n",
        "6.X_train and X_test are the input features for the training and testing sets, respectively. y_train and y_test are the corresponding labels (or targets) for these sets.\n",
        "\n",
        "7.This neural network uses a single hidden layer, as specified by hidden_layers=[5] when the NNLib class is instantiated. This hidden layer contains 5 units.\n",
        "\n",
        "8.An epoch in training refers to one complete pass through the entire training dataset. During an epoch, the model's weights are updated to try to minimize the cost function.\n",
        "\n",
        "9.To train the model using batches of size n, you would need to modify the trainingEpoch method to iterate over the training data in batches of size n, rather than processing the entire dataset at once. This technique is known as mini-batch gradient descent.\n",
        "\n",
        "10.We don't have target values for the hidden units. The parameters of the hidden units are updated during the backpropagation process. The error is propagated back through the network from the output layer to the hidden layers, and the weights and biases of the hidden units are updated to minimize the cost function."
      ],
      "metadata": {
        "id": "pWYmIcTbRCHq"
      }
    },
    {
      "cell_type": "markdown",
      "source": [],
      "metadata": {
        "id": "lQD-qE9LZn4-"
      }
    }
  ]
}